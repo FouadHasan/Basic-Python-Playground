{
 "cells": [
  {
   "cell_type": "code",
   "execution_count": 82,
   "metadata": {},
   "outputs": [],
   "source": [
    "import numpy as np\n",
    "import pandas as pd\n",
    "\n",
    "#dataset import\n",
    "xtrain=pd.read_excel(r'C:\\Users\\fhasan1\\input_data.xls')\n",
    "ytrain=pd.read_excel(r'C:\\Users\\fhasan1\\target_data.xls')"
   ]
  },
  {
   "cell_type": "code",
   "execution_count": 83,
   "metadata": {},
   "outputs": [],
   "source": [
    "#Changing pandas dataframe to numpy array\n",
    "X = xtrain.to_numpy()\n",
    "y = ytrain.to_numpy()"
   ]
  },
  {
   "cell_type": "code",
   "execution_count": 84,
   "metadata": {},
   "outputs": [],
   "source": [
    "#Transposing data\n",
    "X=X.T\n",
    "y=y.T"
   ]
  },
  {
   "cell_type": "code",
   "execution_count": 85,
   "metadata": {},
   "outputs": [
    {
     "name": "stdout",
     "output_type": "stream",
     "text": [
      "(118, 23999)\n",
      "(54, 23999)\n"
     ]
    }
   ],
   "source": [
    "#finding the size of matrices\n",
    "print(X.shape)\n",
    "print(y.shape)"
   ]
  },
  {
   "cell_type": "code",
   "execution_count": 86,
   "metadata": {},
   "outputs": [],
   "source": [
    "from sklearn.preprocessing import MinMaxScaler\n",
    "\n",
    "#Variables\n",
    "#scaler_x = MinMaxScaler()\n",
    "#scaler_y = MinMaxScaler()\n",
    "#print(scaler_x.fit(a))\n",
    "#X=scaler_x.transform(a)\n",
    "#print(scaler_y.fit(y))\n",
    "#y=scaler_y.transform(y)"
   ]
  },
  {
   "cell_type": "code",
   "execution_count": 87,
   "metadata": {},
   "outputs": [],
   "source": [
    "#One hot encode\n",
    "\n",
    "#from sklearn.preprocessing import OneHotEncoder\n",
    "#ohe = OneHotEncoder()\n",
    "#y = ohe.fit_transform(y).toarray()\n",
    "#print('One hot encoded array:')\n",
    "#print(y[0:5])"
   ]
  },
  {
   "cell_type": "code",
   "execution_count": 88,
   "metadata": {},
   "outputs": [],
   "source": [
    "#Train test split of model\n",
    "from sklearn.model_selection import train_test_split\n",
    "X_train,X_test,y_train,y_test = train_test_split(X.T,y.T,test_size = 0.1,random_state = 0)"
   ]
  },
  {
   "cell_type": "code",
   "execution_count": 89,
   "metadata": {},
   "outputs": [],
   "source": [
    "import keras\n",
    "from keras.models import Sequential\n",
    "from keras.layers import Dense"
   ]
  },
  {
   "cell_type": "code",
   "execution_count": 90,
   "metadata": {},
   "outputs": [],
   "source": [
    "model = Sequential()\n",
    "model.add(Dense(32, input_dim=118, activation='relu'))\n",
    "model.add(Dense(16, activation='relu'))\n",
    "model.add(Dense(16, activation='relu'))\n",
    "model.add(Dense(16, activation='relu'))\n",
    "model.add(Dense(16, activation='relu'))\n",
    "model.add(Dense(16, activation='relu'))\n",
    "model.add(Dense(16, activation='relu'))\n",
    "model.add(Dense(54, activation='linear'))"
   ]
  },
  {
   "cell_type": "code",
   "execution_count": null,
   "metadata": {
    "scrolled": true
   },
   "outputs": [],
   "source": [
    "#To visualize neural network\n",
    "model.summary()"
   ]
  },
  {
   "cell_type": "code",
   "execution_count": 92,
   "metadata": {},
   "outputs": [],
   "source": [
    "model.compile(loss='mse', optimizer='adam', metrics=['mse','mae'])"
   ]
  },
  {
   "cell_type": "code",
   "execution_count": null,
   "metadata": {},
   "outputs": [],
   "source": [
    "history = model.fit(X_train, y_train, epochs=100, batch_size=64,verbose=1,validation_split=0.2)"
   ]
  },
  {
   "cell_type": "code",
   "execution_count": null,
   "metadata": {},
   "outputs": [],
   "source": [
    "print(history.history.keys())\n",
    "# \"Loss\"\n",
    "\n",
    "import matplotlib.pyplot as plt\n",
    "\n",
    "plt.plot(history.history['loss'])\n",
    "plt.plot(history.history['val_loss'])\n",
    "plt.title('model loss')\n",
    "plt.ylabel('loss')\n",
    "plt.xlabel('epoch')\n",
    "plt.legend(['train', 'validation'], loc='upper right')\n",
    "plt.show()"
   ]
  },
  {
   "cell_type": "code",
   "execution_count": null,
   "metadata": {},
   "outputs": [],
   "source": [
    "#prediction \n",
    "y_pred=model.predict(X_test)\n",
    "\n",
    "plt.plot(y_test[0,:])\n",
    "plt.plot(y_pred[0,:])\n",
    "plt.legend(['True', 'Prediction'], loc='upper right')"
   ]
  },
  {
   "cell_type": "code",
   "execution_count": null,
   "metadata": {},
   "outputs": [],
   "source": [
    "import math\n",
    "from sklearn.metrics import mean_squared_error\n",
    "RMSE=[]\n",
    "for x in range(2400): \n",
    "    MSE=mean_squared_error(y_test[x,:], y_pred[x,:])\n",
    "    RMSE.append(math.sqrt(MSE))\n",
    "print(RMSE)\n",
    "mean_RMSE=sum(RMSE)/len(RMSE)\n",
    "print(mean_RMSE)"
   ]
  },
  {
   "cell_type": "code",
   "execution_count": 96,
   "metadata": {},
   "outputs": [],
   "source": [
    "#saving the trained model\n",
    "model.save(\"SCUC_118_Learner.h5\")"
   ]
  },
  {
   "cell_type": "code",
   "execution_count": 97,
   "metadata": {},
   "outputs": [],
   "source": [
    "# load and evaluate a saved model\n",
    "from keras.models import load_model\n",
    " \n",
    "# load model\n",
    "model = load_model('SCUC_118_Learner.h5')"
   ]
  },
  {
   "cell_type": "code",
   "execution_count": null,
   "metadata": {},
   "outputs": [],
   "source": [
    "# import xlsxwriter module \n",
    "import xlsxwriter \n",
    "  \n",
    "workbook = xlsxwriter.Workbook('prediction.xlsx') \n",
    "worksheet1 = workbook.add_worksheet(\"genreation1\") \n",
    "worksheet2 = workbook.add_worksheet(\"genreation2\")\n",
    " \n",
    "row = 0\n",
    "column = 0\n",
    "for item in RMSE2: \n",
    "  \n",
    "    worksheet1.write(row, column, item)  \n",
    "    row += 1\n",
    "    \n",
    "row = 0\n",
    "column = 0   \n",
    "for item in RMSE3: \n",
    "  \n",
    "    worksheet2.write(row, column, item)  \n",
    "    row += 1\n",
    "      \n",
    "workbook.close()"
   ]
  },
  {
   "cell_type": "code",
   "execution_count": null,
   "metadata": {},
   "outputs": [],
   "source": [
    "#Basic custom loss function\n",
    "import keras.backend as K\n",
    "\n",
    "def mse(y_true, y_pred):  \n",
    "    # shape of y_true -> (batch_size, units) \n",
    "    # shape of y_pred -> (batch_size, units) \n",
    "    loss = K.square(y_pred - y_true) # shape -> (batch_size, units)                    \n",
    "    loss = K.mean(loss, axis=1) # shape -> (batch_size,)\n",
    "    return loss\n",
    "model.compile(loss=mse, optimizer=adam)"
   ]
  },
  {
   "cell_type": "code",
   "execution_count": null,
   "metadata": {},
   "outputs": [],
   "source": [
    "#Custom loss function\n",
    "#2x more penalty for being predict > actual\n",
    "import keras.backend as K\n",
    "def customLoss(true,pred):\n",
    "    diff = pred - true\n",
    "    penalty = K.greater(diff,0) \n",
    "    penalty = K.cast(penalty, K.floatx()) #if diff=+ve, greater=2\n",
    "    penalty = penalty + 1                 #if diff=-ve, greater=1\n",
    "    #using mse:\n",
    "    return K.mean(penalty*K.square(diff))\n",
    "\n",
    "model.compile(optimizer = 'adam', loss = customLoss)"
   ]
  },
  {
   "cell_type": "code",
   "execution_count": 5,
   "metadata": {},
   "outputs": [
    {
     "data": {
      "text/plain": [
       "array([[1, 0, 0, 0],\n",
       "       [0, 0, 1, 0],\n",
       "       [1, 0, 2, 0],\n",
       "       [1, 0, 0, 0]], dtype=int64)"
      ]
     },
     "execution_count": 5,
     "metadata": {},
     "output_type": "execute_result"
    }
   ],
   "source": [
    "from sklearn.metrics import confusion_matrix\n",
    ">>> y_true = [2, 0, 2, 2, 3, 1]\n",
    ">>> y_pred = [0, 0, 2, 2, 0, 2]\n",
    ">>> confusion_matrix(y_true, y_pred)\n"
   ]
  },
  {
   "cell_type": "code",
   "execution_count": null,
   "metadata": {},
   "outputs": [],
   "source": [
    "# Convert labels to categorical one-hot encoding\n",
    "multi class classification\n",
    "one_hot_labels = keras.utils.to_categorical(y, num_classes=10)"
   ]
  },
  {
   "cell_type": "code",
   "execution_count": null,
   "metadata": {},
   "outputs": [],
   "source": [
    "#writing to excel\n",
    "#import pandas as pd\n",
    "#df1 = pd.DataFrame(data=numpy_data, index=[\"row1\", \"row2\"], columns=[\"column1\", \"column2\"])\n",
    "df = pd.DataFrame(data=numpy_data)\n",
    "df.to_excel(\"y_predV.xlsx\")\n",
    "df.to_excel(\"y_predB.xlsx\")"
   ]
  },
  {
   "cell_type": "code",
   "execution_count": null,
   "metadata": {},
   "outputs": [],
   "source": [
    "#importing matlab variable\n",
    "import scipy.io as io\n",
    "io.savemat(\"C:\\powercode\\SCUC Code_Amin\\keras_prediction.mat\", {\"y_pred\": y_pred_NN,\"y_test\": y_test})\n",
    "matlab_data = io.loadmat('cnn_data.mat')\n",
    "matlab_data.keys()\n",
    "demand=matlab_data['XtrainD']\n",
    "gen=matlab_data['YtrainG']\n",
    "print(demand.shape)\n",
    "print(gen.shape)\n",
    "\n"
   ]
  },
  {
   "cell_type": "code",
   "execution_count": null,
   "metadata": {},
   "outputs": [],
   "source": [
    "\n"
   ]
  }
 ],
 "metadata": {
  "kernelspec": {
   "display_name": "Python 3",
   "language": "python",
   "name": "python3"
  },
  "language_info": {
   "codemirror_mode": {
    "name": "ipython",
    "version": 3
   },
   "file_extension": ".py",
   "mimetype": "text/x-python",
   "name": "python",
   "nbconvert_exporter": "python",
   "pygments_lexer": "ipython3",
   "version": "3.7.3"
  }
 },
 "nbformat": 4,
 "nbformat_minor": 2
}
